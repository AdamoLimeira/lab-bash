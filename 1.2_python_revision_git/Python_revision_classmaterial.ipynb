{
 "cells": [
  {
   "cell_type": "markdown",
   "metadata": {
    "id": "d_5EMO9J02-4"
   },
   "source": [
    "# Python revision"
   ]
  },
  {
   "cell_type": "markdown",
   "metadata": {
    "id": "A5GbD_pd02-8"
   },
   "source": [
    "## Content\n",
    "\n",
    "* Python Fundamentals - Mastering conditions & loops\n",
    "* Data types\n",
    "* Functions\n",
    "* Classes\n"
   ]
  },
  {
   "cell_type": "markdown",
   "metadata": {
    "id": "qbO9iwYr02-9"
   },
   "source": [
    "# Python Fundamentals - Mastering conditions & loops\n"
   ]
  },
  {
   "cell_type": "markdown",
   "metadata": {
    "id": "13X8Ih9Z02--"
   },
   "source": [
    "## What you will learn in this course\n",
    "\n",
    "During this first course of our long journey in Data Analytics, we will review the fundamentals of Python and especially the concept of loops and conditions. The goal is to give you a solid foundation to move forward more quickly in the future.\n",
    "\n",
    "Here is what we will cover:\n",
    "\n",
    "\n",
    "*   What is an IDE\n",
    "*   What is a console and its main controls?\n",
    "*   Making conditions\n",
    "*   Make a FOR loop\n",
    "*   Make a WHILE loop\n",
    "\n",
    "## Developer's Toolkit\n",
    "\n",
    "### Strolling through your folders with the terminal\n",
    "\n",
    "Very often you will have to tell your console where to find the folders and files you are going to run. That's why you will need to know the main commands that allow you to perform these tasks.\n",
    "\n",
    "\n",
    "WARNING: The commands are sometimes not the same between MAC and PC. You will have to pay attention to this depending on the machine you are going to work on. We are using Mac for writing this course but we will also put the commands for PC.\n",
    "\n",
    "##### `ls` (or `dir` on Windows)\n",
    "\n",
    "This command is used to list everything in the folder you are in. \n",
    "For example:\n",
    "\n",
    "\n",
    "```python\n",
    "MacBook-Air-de-Antoine-2: ONE_FOLDER antoinekrajnc$ ls\n",
    ">>>> files_1.py files_2.py files_3.py\n",
    "```\n",
    "\n",
    "\n",
    "NB : For Windows, this command is not called `ls` but `dir`\n",
    "\n",
    "That's it, this covers the two main commands you need to know in your console. Now let's look at how we can execute code in our console.\n",
    "\n",
    "##### `cd`\n",
    "\n",
    "This command is to change the folder you are in. \n",
    "Here is an example:\n",
    "\n",
    "\n",
    "```python\n",
    "$ cd Desktop\n",
    "```\n",
    "\n",
    "Here we go directly to the _Desktop_ folder on our computer.\n",
    "\n",
    "With `cd` and `ls`, you can walk through all your filesystem in the terminal. We will teach you more terminal commands later.\n",
    "\n",
    "\n",
    "### The REPL\n",
    "\n",
    "We can execute code on our console via our REPL (Read Evaluate Print Loop). To access it, just write the `python` command on your console:\n",
    "\n",
    "\n",
    "```python\n",
    "$ python\n",
    "```\n",
    "\n",
    "\n",
    "You will enter in the REPL. This tool is very handy for testing raw code and for doing quick tests. Let's write a simple program:\n",
    "\n",
    "\n",
    "```python\n",
    "Print(\"Hello World !\")\n",
    ">>> Hello World !\n",
    "```\n",
    "\n",
    "\n",
    "Here is a simple program in our REPL that allows us to write _Hello World_ in our console.\n",
    "\n",
    "However, the REPL has one drawback, it's that you can't change the code easily, which is not convenient because the slightest mistake will require you to rewrite all the code from scratch, which is very frustrating when you've already written 9-10 lines of code. That's why we use what we call a code editor.\n",
    "\n",
    "\n",
    "### A code editor\n",
    "\n",
    "A text editor is where you'll put all your script. You have different types of text editors like Sublime, Pycharm or Notepad++. If you already have a favorite editor, use the one you like. Otherwise, we advise you Atom or Sublime which are generalist and good or Pycharm which is specialized for Python.\n",
    "\n",
    "\n",
    "### What is an IDE ?\n",
    "\n",
    "Very often, instead of using the console and the text editor separately, developers prefer to use what is called an IDE or Integrated Development Environment. They allow you to bring your console and text editor (and sometimes more features) together in a graphical user interface that will help you code more easily.\n",
    "\n",
    "In Data Science, the most commonly used IDEs are Spyder and Jupyter. There is an equivalent of Jupyter installed in a Cloud: [Google Colab](https://colab.research.google.com/notebooks/welcome.ipynb#recent=true).\n",
    "Google Colaboratory has all the advantages of a Jupyter Notebook without you having to install anything locally on your machine !\n",
    "\n"
   ]
  },
  {
   "cell_type": "markdown",
   "metadata": {
    "id": "xjrxqA8l02_A"
   },
   "source": [
    "## Building a condition\n",
    "\n",
    "The programming languages all work with the same logical structure. If you understand three basic concepts, you won't have trouble switching from one language to another. These three concepts are: conditions, loops, and functions. We will first focus on conditions and loops. So let's begin:\n",
    "\n",
    "\n",
    "### The structure of a condition"
   ]
  },
  {
   "cell_type": "code",
   "execution_count": 1,
   "metadata": {
    "id": "OPVJ14z602_B"
   },
   "outputs": [],
   "source": [
    "# Beforehand, we initialize a variable called a, which here is an integer with the value 3\n",
    "a = 3\n"
   ]
  },
  {
   "cell_type": "markdown",
   "metadata": {
    "id": "MmmnkVTP02_D"
   },
   "source": [
    "#### `if/else`\n",
    "Here's what the structure of a simple condition looks like:\n",
    "\n",
    "\n",
    "```python\n",
    "if condition:\n",
    "    code\n",
    "else:\n",
    "    code\n",
    "```\n",
    "\n",
    "\n",
    "Let's take an example:"
   ]
  },
  {
   "cell_type": "code",
   "execution_count": 2,
   "metadata": {
    "id": "SYSnjHdq02_E"
   },
   "outputs": [
    {
     "name": "stdout",
     "output_type": "stream",
     "text": [
      "a is bigger than 2!\n"
     ]
    },
    {
     "data": {
      "text/plain": [
       "3"
      ]
     },
     "execution_count": 2,
     "metadata": {},
     "output_type": "execute_result"
    }
   ],
   "source": [
    "# A different sentence is displayed depending on the value of a\n",
    "\n",
    "if a>2:\n",
    "    print(\"a is bigger than 2!\")\n",
    "    \n",
    "else: \n",
    "    print(\"a is at most 2\")\n",
    "    \n",
    "a"
   ]
  },
  {
   "cell_type": "markdown",
   "metadata": {
    "id": "-4B_cRbk02_F"
   },
   "source": [
    "#### `elif`\n",
    "If you have several possible conditions, you can use `elif`, here is the structure :\n",
    "\n",
    "\n",
    "```python\n",
    "if first_condition:\n",
    "    Code\n",
    "elif second_condition:\n",
    "    Code\n",
    "else:\n",
    "    code\n",
    "```\n",
    "\n",
    "\n",
    "Let's take an example:"
   ]
  },
  {
   "cell_type": "code",
   "execution_count": null,
   "metadata": {
    "id": "MkJMJ0aq02_F"
   },
   "outputs": [],
   "source": [
    "                 "
   ]
  },
  {
   "cell_type": "markdown",
   "metadata": {
    "id": "fS02YLWr02_G"
   },
   "source": [
    "### The different operators\n",
    "\n",
    "If you want to create a condition, you need to know the main operators that will allow you to model them. \n",
    "\n",
    "Here is a summary table :\n",
    "\n",
    "\n",
    "<table>\n",
    "  <tr>\n",
    "   <td><strong>Operator</strong>\n",
    "   </td>\n",
    "   <td><strong>Meaning</strong>\n",
    "   </td>\n",
    "  </tr>\n",
    "  <tr>\n",
    "   <td>>\n",
    "   </td>\n",
    "   <td>Strict superior\n",
    "   </td>\n",
    "  </tr>\n",
    "  <tr>\n",
    "   <td><\n",
    "   </td>\n",
    "   <td>Strictly inferior\n",
    "   </td>\n",
    "  </tr>\n",
    "  <tr>\n",
    "   <td>>=\n",
    "   </td>\n",
    "   <td>Superior or equal\n",
    "   </td>\n",
    "  </tr>\n",
    "  <tr>\n",
    "   <td><=\n",
    "   </td>\n",
    "   <td>Inferior or equal\n",
    "   </td>\n",
    "  </tr>\n",
    "  <tr>\n",
    "   <td>==\n",
    "   </td>\n",
    "   <td>Equal to\n",
    "<p>\n",
    "(Be careful to set the double equal otherwise it's as if you were assigning a new value to a variable)\n",
    "   </td>\n",
    "  </tr>\n",
    "  <tr>\n",
    "   <td>!= (or <>)\n",
    "   </td>\n",
    "   <td>Different from\n",
    "   </td>\n",
    "  </tr>\n",
    "</table>"
   ]
  },
  {
   "cell_type": "markdown",
   "metadata": {
    "id": "eaTge-LK02_H"
   },
   "source": [
    "## Make a loop\n",
    "\n",
    "Now let's look at the second fundamental concept in the program: loop building. These loops make it possible to iterate a certain number of times on a program. We do lots of loops in real life too. For example, _As long as I haven't finished my homework, I keep working._ This action could be modeled, in programming, by a loop. So let's see how to write them."
   ]
  },
  {
   "cell_type": "markdown",
   "metadata": {
    "id": "PMzvJOZ-02_H"
   },
   "source": [
    "### Loop `for`\n",
    "\n",
    "One of the most commonly used loops is the `for` loop. This loop will allow you to iterate a finite number of times over a program. Here's how it is structured:\n",
    "\n",
    "\n",
    "```python\n",
    "for item in iterator:\n",
    "    code\n",
    "```\n",
    "\n",
    "\n",
    "Let's take a concrete example:"
   ]
  },
  {
   "cell_type": "code",
   "execution_count": null,
   "metadata": {
    "id": "LS8fNlun02_H"
   },
   "outputs": [],
   "source": [
    "# Note: the last integer passed in range() is EXCLUDED (here, we stop at 9 and not 10)\n"
   ]
  },
  {
   "cell_type": "markdown",
   "metadata": {
    "id": "cDtS1j8N02_I"
   },
   "source": [
    "Here, _i_ takes values from 0 to 9 using the `range()` function.\n",
    "\n",
    "WARNING: when using the `range()` function, the last element, in this example 10, is not included in the `for` loop.\n",
    "\n",
    "You can also iterate on variables:"
   ]
  },
  {
   "cell_type": "code",
   "execution_count": 7,
   "metadata": {
    "colab": {
     "base_uri": "https://localhost:8080/"
    },
    "executionInfo": {
     "elapsed": 12,
     "status": "ok",
     "timestamp": 1659031326102,
     "user": {
      "displayName": "David Bayarri Roca",
      "userId": "17388453309164673912"
     },
     "user_tz": -120
    },
    "id": "2kBSFSSF02_I",
    "outputId": "67dd78f3-925c-4ebb-9d2a-3a2351ab90f7"
   },
   "outputs": [
    {
     "name": "stdout",
     "output_type": "stream",
     "text": [
      "['Hello', 'My', 'Name', 'Is', 'Michael']\n"
     ]
    }
   ],
   "source": [
    "# Variable a contains a list on which we can iterate:\n",
    "l = [\"Hello\", \"My\", \"Name\", \"Is\", \"Michael\"]\n",
    "print (l)\n"
   ]
  },
  {
   "cell_type": "markdown",
   "metadata": {
    "id": "o235-DJ302_J"
   },
   "source": [
    "### `WHILE` loops\n",
    "The second type of loop is the `while` loop, which allows you to iterate through a program under a certain condition. As long as the condition is verified, the loop runs. Here is the structure:\n",
    "\n",
    "\n",
    "```python\n",
    "while condition:\n",
    "    code\n",
    "```\n",
    "\n",
    "\n",
    "Since the examples often speak for themselves:"
   ]
  },
  {
   "cell_type": "code",
   "execution_count": 8,
   "metadata": {
    "colab": {
     "base_uri": "https://localhost:8080/"
    },
    "executionInfo": {
     "elapsed": 240,
     "status": "ok",
     "timestamp": 1659031419322,
     "user": {
      "displayName": "David Bayarri Roca",
      "userId": "17388453309164673912"
     },
     "user_tz": -120
    },
    "id": "BXKpC5Td02_J",
    "outputId": "4fc19a88-d524-4e6a-a7fa-bc3ffee2a9c1"
   },
   "outputs": [
    {
     "name": "stdout",
     "output_type": "stream",
     "text": [
      "a is equal to 3\n",
      "a is equal to 4\n",
      "a is equal to 5\n",
      "a is equal to 6\n",
      "a is equal to 7\n",
      "a is equal to 8\n",
      "a is equal to 9\n",
      "a is equal to 10\n",
      "11\n"
     ]
    }
   ],
   "source": [
    "# The while loops continue to iterate as long as a condition is verified.\n",
    "# Warning: in this example, if you forget to change the value of a at each iteration,\n",
    "# We create an infinite loop, because the condition will always be fulfilled!\n",
    "\n",
    "a=3\n",
    "\n",
    "while  a<11:\n",
    "    print(\"a is equal to {}\".format(a))\n",
    "    a = a+1\n",
    "    \n",
    "print(a)\n",
    "\n",
    "    \n"
   ]
  },
  {
   "cell_type": "markdown",
   "metadata": {
    "id": "jLv_MZqC02_J"
   },
   "source": [
    "Here the loop was executed as long as _a_ was less than 10. We exited the loop from the moment _a_ is equal to 10.\n",
    "\n",
    "WARNING: It is quite possible to create infinite loops with a `while` loop. That is, a loop that never stops. If you are in this case, press _ctrl + c_ in your console and this should stop the program."
   ]
  },
  {
   "cell_type": "markdown",
   "metadata": {
    "id": "jpgtkpnW02_K"
   },
   "source": [
    "### Difference between `FOR` et `WHILE`\n",
    "\n",
    "The main difference between the WHILE loop and the FOR loop is that, in the former, you don't have to know how many times you are going to iterate in your program. In the second, your number of iterations is finished no matter what. It's important to understand the difference between the two because, depending on your needs, it's quite possible that you'll choose one or the other."
   ]
  },
  {
   "cell_type": "markdown",
   "metadata": {
    "id": "xCwiaXpF02_K"
   },
   "source": [
    "### Leave a loop with `break`\n",
    "You may have to get out of a loop even if it is supposed to continue. For example, _As long as I haven't finished my homework, I continue working EXCEPT if it is after 11:00 pm. This is when _Break_ is very useful. Let's look directly at an example:\n"
   ]
  },
  {
   "cell_type": "code",
   "execution_count": 29,
   "metadata": {
    "id": "Boh_i-TU02_K"
   },
   "outputs": [
    {
     "name": "stdout",
     "output_type": "stream",
     "text": [
      "1\n",
      "2\n",
      "3\n",
      "4\n"
     ]
    }
   ],
   "source": [
    "mylist = [1,2,3,4,\"Hello\",5,6,7,9]\n",
    "#python is sensitive\n",
    "for item in mylist:\n",
    "    if item !=\"Hello\":\n",
    "        print(item)\n",
    "    else:\n",
    "        break"
   ]
  },
  {
   "cell_type": "markdown",
   "metadata": {
    "id": "DiIhIEAT02_K"
   },
   "source": [
    "# Data Types"
   ]
  },
  {
   "cell_type": "markdown",
   "metadata": {
    "id": "F0G92RCV02_L"
   },
   "source": [
    "## Handle data collections\n",
    "\n",
    "Data collections are objects that allow you to store several types of data at the same time. For example, you can have decimal numbers, strings, and integers in the same data collection. This is very useful to know how to manipulate because you will often deal with data collections."
   ]
  },
  {
   "cell_type": "markdown",
   "metadata": {
    "id": "HYLfiih-02_L"
   },
   "source": [
    "### Lists\n",
    "\n",
    "\n",
    "#### Definition\n",
    "\n",
    "A list is a mutable data collection, i.e. the collection in the list can be modified. Here is an example:"
   ]
  },
  {
   "cell_type": "code",
   "execution_count": 44,
   "metadata": {
    "id": "o73xQP7N02_L"
   },
   "outputs": [],
   "source": [
    "mylist = [1,2,3,4,5]"
   ]
  },
  {
   "cell_type": "markdown",
   "metadata": {
    "id": "KIqbAYz802_M"
   },
   "source": [
    "In this list, we have 5 different items that have the value: 1, 2, 3, 4 and 5 respectively. We can access each item in the list via its index (which corresponds to its position in the list) :"
   ]
  },
  {
   "cell_type": "code",
   "execution_count": 45,
   "metadata": {
    "id": "XrY-Jc8N02_M"
   },
   "outputs": [
    {
     "name": "stdout",
     "output_type": "stream",
     "text": [
      "3\n",
      "5\n"
     ]
    }
   ],
   "source": [
    "#I want to access the 3rd elemento of the list\n",
    "\n",
    "print(mylist[2])\n",
    "\n",
    "print (mylist[-1])\n",
    "       "
   ]
  },
  {
   "cell_type": "markdown",
   "metadata": {
    "id": "pVNgksp402_M"
   },
   "source": [
    "Warning: in python, the numbering of indices always starts at 0!"
   ]
  },
  {
   "cell_type": "markdown",
   "metadata": {
    "id": "iZ91yvqY02_M"
   },
   "source": [
    "#### Change items in a list\n",
    "\n",
    "As we said in our introduction, a list is mutable. That is, you can change the items that are already present in the list by specifying the index of the item you want to change. For example, you can specify the index of the item you want to change:"
   ]
  },
  {
   "cell_type": "code",
   "execution_count": 46,
   "metadata": {
    "id": "8bXvhHkh02_M"
   },
   "outputs": [],
   "source": [
    "mylist[2]=\"Bye\""
   ]
  },
  {
   "cell_type": "markdown",
   "metadata": {
    "id": "CNGwPjaj02_N"
   },
   "source": [
    "Lists can therefore be useful if you need access to items in the data collection in order to modify them."
   ]
  },
  {
   "cell_type": "markdown",
   "metadata": {
    "id": "Tj6CwVLW02_N"
   },
   "source": [
    "#### Add items to a list\n",
    "\n",
    "Items can be added to a list in different ways:\n",
    "\n",
    "\n",
    "*   The operator `+`\n",
    "*   `.append()`\n",
    "*   `.extend()`"
   ]
  },
  {
   "cell_type": "code",
   "execution_count": null,
   "metadata": {
    "id": "jHbVHrgo02_N"
   },
   "outputs": [],
   "source": []
  },
  {
   "cell_type": "code",
   "execution_count": null,
   "metadata": {
    "id": "afAL_4-S02_N"
   },
   "outputs": [],
   "source": [
    "# Add of a single element with append\n"
   ]
  },
  {
   "cell_type": "markdown",
   "metadata": {
    "id": "91X5dkzx02_O"
   },
   "source": [
    "The `.append()` function is limited to one item addition. If you want to add several items to a list with this function, the program will consider these several items as a single list, this list becoming a single item added to your first list. See instead an example:"
   ]
  },
  {
   "cell_type": "code",
   "execution_count": null,
   "metadata": {
    "id": "vMF9IAIX02_O"
   },
   "outputs": [],
   "source": []
  },
  {
   "cell_type": "markdown",
   "metadata": {
    "id": "VQ8RsISh02_O"
   },
   "source": [
    "The `.extend()` function solves this problem by adding each item one by one to the first list. So here it is:"
   ]
  },
  {
   "cell_type": "code",
   "execution_count": null,
   "metadata": {
    "colab": {
     "base_uri": "https://localhost:8080/"
    },
    "executionInfo": {
     "elapsed": 268,
     "status": "ok",
     "timestamp": 1659032475131,
     "user": {
      "displayName": "David Bayarri Roca",
      "userId": "17388453309164673912"
     },
     "user_tz": -120
    },
    "id": "Ta5O8Uh502_O",
    "outputId": "a4f89be9-51c1-4106-e44f-c77cb2efede8"
   },
   "outputs": [
    {
     "name": "stdout",
     "output_type": "stream",
     "text": [
      "[1, 2, 3, 4, 5, 'test1', 'test2', 'test3']\n"
     ]
    }
   ],
   "source": [
    "# Add a list to the end of an other (concatenate)\n"
   ]
  },
  {
   "cell_type": "markdown",
   "metadata": {
    "id": "igXkYjI002_P"
   },
   "source": [
    "#### Remove items from a list\n",
    "\n",
    "The last thing you need to see is how to remove items from a list. There are three ways to do this:\n",
    "*   `del()`\n",
    "*   `.remove()`\n",
    "*   `pop()`\n",
    "\n",
    "In the same way, let's try to understand by example:"
   ]
  },
  {
   "cell_type": "code",
   "execution_count": null,
   "metadata": {
    "colab": {
     "base_uri": "https://localhost:8080/"
    },
    "executionInfo": {
     "elapsed": 239,
     "status": "ok",
     "timestamp": 1659032813997,
     "user": {
      "displayName": "David Bayarri Roca",
      "userId": "17388453309164673912"
     },
     "user_tz": -120
    },
    "id": "NZ1yaMx902_P",
    "outputId": "51878600-3c27-4b9b-eee1-ed3286671933"
   },
   "outputs": [
    {
     "name": "stdout",
     "output_type": "stream",
     "text": [
      "[1, 4]\n"
     ]
    }
   ],
   "source": []
  },
  {
   "cell_type": "code",
   "execution_count": null,
   "metadata": {
    "colab": {
     "base_uri": "https://localhost:8080/"
    },
    "executionInfo": {
     "elapsed": 237,
     "status": "ok",
     "timestamp": 1659032795969,
     "user": {
      "displayName": "David Bayarri Roca",
      "userId": "17388453309164673912"
     },
     "user_tz": -120
    },
    "id": "nfWgUJSW02_P",
    "outputId": "7bc36903-f14b-4705-dc48-60cb4c4429f6"
   },
   "outputs": [
    {
     "name": "stdout",
     "output_type": "stream",
     "text": [
      "[2, 4]\n"
     ]
    }
   ],
   "source": []
  },
  {
   "cell_type": "code",
   "execution_count": null,
   "metadata": {
    "colab": {
     "base_uri": "https://localhost:8080/",
     "height": 235
    },
    "executionInfo": {
     "elapsed": 279,
     "status": "error",
     "timestamp": 1659033118447,
     "user": {
      "displayName": "David Bayarri Roca",
      "userId": "17388453309164673912"
     },
     "user_tz": -120
    },
    "id": "mU8N3-g-EbGz",
    "outputId": "55cb9fa2-c494-42ef-e471-2c74378a6370"
   },
   "outputs": [
    {
     "ename": "IndexError",
     "evalue": "ignored",
     "output_type": "error",
     "traceback": [
      "\u001b[0;31m---------------------------------------------------------------------------\u001b[0m",
      "\u001b[0;31mIndexError\u001b[0m                                Traceback (most recent call last)",
      "\u001b[0;32m<ipython-input-13-ab36804e9de0>\u001b[0m in \u001b[0;36m<module>\u001b[0;34m()\u001b[0m\n\u001b[1;32m      2\u001b[0m \u001b[0melem\u001b[0m\u001b[0;34m=\u001b[0m\u001b[0;34m[\u001b[0m\u001b[0;36m0\u001b[0m\u001b[0;34m]\u001b[0m\u001b[0;34m\u001b[0m\u001b[0;34m\u001b[0m\u001b[0m\n\u001b[1;32m      3\u001b[0m \u001b[0;32mwhile\u001b[0m \u001b[0;36m1\u001b[0m \u001b[0;32min\u001b[0m \u001b[0mlist_1\u001b[0m\u001b[0;34m:\u001b[0m\u001b[0;34m\u001b[0m\u001b[0;34m\u001b[0m\u001b[0m\n\u001b[0;32m----> 4\u001b[0;31m   \u001b[0melem\u001b[0m\u001b[0;34m=\u001b[0m\u001b[0;34m+\u001b[0m\u001b[0mlist_1\u001b[0m\u001b[0;34m.\u001b[0m\u001b[0mpop\u001b[0m\u001b[0;34m(\u001b[0m\u001b[0;36m1\u001b[0m\u001b[0;34m)\u001b[0m\u001b[0;34m\u001b[0m\u001b[0;34m\u001b[0m\u001b[0m\n\u001b[0m\u001b[1;32m      5\u001b[0m \u001b[0;34m\u001b[0m\u001b[0m\n\u001b[1;32m      6\u001b[0m \u001b[0mprint\u001b[0m\u001b[0;34m(\u001b[0m\u001b[0melem\u001b[0m\u001b[0;34m)\u001b[0m\u001b[0;34m\u001b[0m\u001b[0;34m\u001b[0m\u001b[0m\n",
      "\u001b[0;31mIndexError\u001b[0m: pop index out of range"
     ]
    }
   ],
   "source": []
  },
  {
   "cell_type": "markdown",
   "metadata": {
    "id": "L_QXC2Ao02_P"
   },
   "source": [
    "The main difference between `del()` and `remove()` is that the first function allows you to delete an element via its index, while the second function allows you to delete an element via the value of the element (in this case _1_). Depending on your issues, you may need one more than the other.\n",
    "\n",
    "Warning: the `remove()` function removes only one element at a time. If you have duplicates that you want to remove, use a `while` loop as in the following example:"
   ]
  },
  {
   "cell_type": "code",
   "execution_count": null,
   "metadata": {
    "colab": {
     "base_uri": "https://localhost:8080/",
     "height": 217
    },
    "executionInfo": {
     "elapsed": 240,
     "status": "error",
     "timestamp": 1659033196682,
     "user": {
      "displayName": "David Bayarri Roca",
      "userId": "17388453309164673912"
     },
     "user_tz": -120
    },
    "id": "IbCrSuol02_P",
    "outputId": "fa6c518e-c764-4800-a8cc-dbd2b42ce9a6"
   },
   "outputs": [
    {
     "ename": "TypeError",
     "evalue": "ignored",
     "output_type": "error",
     "traceback": [
      "\u001b[0;31m---------------------------------------------------------------------------\u001b[0m",
      "\u001b[0;31mTypeError\u001b[0m                                 Traceback (most recent call last)",
      "\u001b[0;32m<ipython-input-15-f2070a3ba625>\u001b[0m in \u001b[0;36m<module>\u001b[0;34m()\u001b[0m\n\u001b[1;32m      2\u001b[0m \u001b[0mlist_3\u001b[0m \u001b[0;34m=\u001b[0m \u001b[0;34m[\u001b[0m\u001b[0;34m]\u001b[0m\u001b[0;34m\u001b[0m\u001b[0;34m\u001b[0m\u001b[0m\n\u001b[1;32m      3\u001b[0m \u001b[0;32mwhile\u001b[0m \u001b[0;34m'to_remove'\u001b[0m \u001b[0;32min\u001b[0m \u001b[0mlist_2\u001b[0m\u001b[0;34m:\u001b[0m\u001b[0;34m\u001b[0m\u001b[0;34m\u001b[0m\u001b[0m\n\u001b[0;32m----> 4\u001b[0;31m     \u001b[0mlist_3\u001b[0m\u001b[0;34m.\u001b[0m\u001b[0mpop\u001b[0m\u001b[0;34m(\u001b[0m\u001b[0;34m'to_remove'\u001b[0m\u001b[0;34m)\u001b[0m\u001b[0;34m\u001b[0m\u001b[0;34m\u001b[0m\u001b[0m\n\u001b[0m\u001b[1;32m      5\u001b[0m \u001b[0mprint\u001b[0m\u001b[0;34m(\u001b[0m\u001b[0mlist_3\u001b[0m\u001b[0;34m)\u001b[0m\u001b[0;34m\u001b[0m\u001b[0;34m\u001b[0m\u001b[0m\n",
      "\u001b[0;31mTypeError\u001b[0m: 'str' object cannot be interpreted as an integer"
     ]
    }
   ],
   "source": []
  },
  {
   "cell_type": "markdown",
   "metadata": {
    "id": "DWdmMwKw02_Q"
   },
   "source": [
    "The problem with these functions is that the item is deleted and cannot be retrieved. Indeed, it often happens to want to separate an item from a list to use it somewhere else, or even to want to move this item in the list. In this case, we will use the `pop()` function:"
   ]
  },
  {
   "cell_type": "code",
   "execution_count": null,
   "metadata": {
    "colab": {
     "base_uri": "https://localhost:8080/"
    },
    "executionInfo": {
     "elapsed": 252,
     "status": "ok",
     "timestamp": 1659032905520,
     "user": {
      "displayName": "David Bayarri Roca",
      "userId": "17388453309164673912"
     },
     "user_tz": -120
    },
    "id": "VMdocYwC02_Q",
    "outputId": "fdcd7d5f-2b7c-4b96-9766-63b8ff51a579"
   },
   "outputs": [
    {
     "name": "stdout",
     "output_type": "stream",
     "text": [
      "4\n",
      "[1, 2]\n"
     ]
    }
   ],
   "source": []
  },
  {
   "cell_type": "markdown",
   "metadata": {
    "id": "6M4owFWs02_Q"
   },
   "source": [
    "#### List comprehensions\n",
    "\n",
    "List comprehensions provide a concise way to create lists. Common applications are to make new lists where each element is the result of some operations applied to each element of another list, or a subset of another list satisfying a certain condition. \n",
    "\n",
    "Let's learn how to use list comprehensions by example :"
   ]
  },
  {
   "cell_type": "code",
   "execution_count": null,
   "metadata": {
    "colab": {
     "base_uri": "https://localhost:8080/"
    },
    "executionInfo": {
     "elapsed": 217,
     "status": "ok",
     "timestamp": 1659034051561,
     "user": {
      "displayName": "David Bayarri Roca",
      "userId": "17388453309164673912"
     },
     "user_tz": -120
    },
    "id": "IONbzKQEIU4D",
    "outputId": "d4aa6739-4d8a-4bee-b8eb-6761f73cc73f"
   },
   "outputs": [
    {
     "name": "stdout",
     "output_type": "stream",
     "text": [
      "5\n",
      "range(0, 5)\n",
      "0\n",
      "1\n",
      "2\n",
      "3\n",
      "4\n"
     ]
    }
   ],
   "source": []
  },
  {
   "cell_type": "code",
   "execution_count": null,
   "metadata": {
    "id": "MbBMdwix02_Q"
   },
   "outputs": [],
   "source": [
    "# Define a list\n",
    "\n",
    "# Create a new list, where each element is list_1's elements multiplied by 2\n",
    "\n",
    "\n",
    "# Create a new list, where we keep only list_1's elements that are strictly above 2\n",
    "\n",
    "\n",
    "# Create a new list, where we keep elements of list_1 that are below 7, and then add 1\n"
   ]
  },
  {
   "cell_type": "markdown",
   "metadata": {
    "id": "o88Oz85s02_Q"
   },
   "source": [
    "### Slices\n",
    "\n",
    "\n",
    "#### Fundamental Principal\n",
    "\n",
    "Very often you may not need a complete list but just a part of it. This is when slices become very useful. Here is an example:"
   ]
  },
  {
   "cell_type": "code",
   "execution_count": null,
   "metadata": {
    "id": "IpdlqB9y02_R"
   },
   "outputs": [],
   "source": []
  },
  {
   "cell_type": "markdown",
   "metadata": {
    "id": "m3ZpDm5AUhtq"
   },
   "source": [
    "\n",
    "\n",
    "> Bloque con sangría\n",
    "\n"
   ]
  },
  {
   "cell_type": "markdown",
   "metadata": {
    "id": "jOAF34d_02_R"
   },
   "source": [
    "The structure is therefore as follows:\n",
    "\n",
    "```\n",
    "slice[start_index : end_index]\n",
    "```\n",
    "\n",
    "As well as the `range()` function, `start_index` will be included and `end_index` will be excluded from the list.\n",
    "\n",
    "If you don't put anything at the beginning index, the program will choose by default the index 0. Conversely, if you don't put anything at the end index, the program will understand that it must go to the last index in the list:"
   ]
  },
  {
   "cell_type": "code",
   "execution_count": null,
   "metadata": {
    "id": "rmQWK3YQ02_R"
   },
   "outputs": [],
   "source": []
  },
  {
   "cell_type": "markdown",
   "metadata": {
    "id": "Ev2C03ye02_R"
   },
   "source": [
    "#### Slices with negative index\n",
    "\n",
    "Negative indices are useful when you want to count from the end of the list :"
   ]
  },
  {
   "cell_type": "code",
   "execution_count": null,
   "metadata": {
    "id": "PzR5BYSb02_R"
   },
   "outputs": [],
   "source": []
  },
  {
   "cell_type": "markdown",
   "metadata": {
    "id": "OWiYE4wQ02_S"
   },
   "source": [
    "## Dictionaries\n",
    "\n",
    "Dictionaries have a great deal of specificity, which is very useful. They have keys associated with one or more values. You can think of them as \"drawers\" that contain data and on which labels are stuck. Dictionaries are a very common format, which you will encounter when using APIs for example. In a dictionary, it is therefore important to know how to manipulate the keys and the values associated with that key."
   ]
  },
  {
   "cell_type": "code",
   "execution_count": null,
   "metadata": {
    "id": "N0MBNOoM02_S"
   },
   "outputs": [],
   "source": [
    "# Declare a dictionary with a key 'first_name' and a value 'Antoine'\n"
   ]
  },
  {
   "cell_type": "markdown",
   "metadata": {
    "id": "sZ2JQuWw02_S"
   },
   "source": [
    "The dictionary key is the equivalent of the index in the list. It can be used to access the different values:"
   ]
  },
  {
   "cell_type": "code",
   "execution_count": null,
   "metadata": {
    "id": "v1Mt0W8i02_S"
   },
   "outputs": [],
   "source": []
  },
  {
   "cell_type": "markdown",
   "metadata": {
    "id": "I43BIVwY02_T"
   },
   "source": [
    "#### Modify / Add a key\n",
    "\n",
    "The way you will modify or add a key works the same way:"
   ]
  },
  {
   "cell_type": "code",
   "execution_count": null,
   "metadata": {
    "id": "zHOqagiX02_T"
   },
   "outputs": [],
   "source": [
    "# We modify the already existing element to the key \"first_name\".\n",
    "\n",
    "# New elements are added, with the keys 'name' and 'age'.\n"
   ]
  },
  {
   "cell_type": "markdown",
   "metadata": {
    "id": "ZMtMBml302_U"
   },
   "source": [
    "#### Delete a key\n",
    "\n",
    "A key can be removed using the `del()` function. In the same way as we have seen with the lists:"
   ]
  },
  {
   "cell_type": "code",
   "execution_count": null,
   "metadata": {
    "id": "NNXR0VtK02_U"
   },
   "outputs": [],
   "source": []
  },
  {
   "cell_type": "markdown",
   "metadata": {
    "id": "AlI0o3Ke02_U"
   },
   "source": [
    "## Iterate on dictionaries"
   ]
  },
  {
   "cell_type": "markdown",
   "metadata": {
    "id": "aoLA4bd302_V"
   },
   "source": [
    "In a dictionary, you can iterate on keys, values associated with keys, or both. Here are some good methods to know.\n",
    "\n",
    "\n",
    "##### Iterate on the keys of a dictionary"
   ]
  },
  {
   "cell_type": "code",
   "execution_count": null,
   "metadata": {
    "id": "EI2kvlQJ02_V"
   },
   "outputs": [],
   "source": [
    "# iterate on keys\n"
   ]
  },
  {
   "cell_type": "markdown",
   "metadata": {
    "id": "0gpNoFmB02_V"
   },
   "source": [
    "##### Iterate on dictionary values\n",
    "\n",
    "To iterate on values in a dictionary, the easiest way is to use the `.values()` function:"
   ]
  },
  {
   "cell_type": "code",
   "execution_count": null,
   "metadata": {
    "id": "usIS8THY02_V"
   },
   "outputs": [],
   "source": [
    "# iterate on values\n"
   ]
  },
  {
   "cell_type": "markdown",
   "metadata": {
    "id": "Sxp5UIJm02_V"
   },
   "source": [
    "##### Iterate on keys and values\n",
    "\n",
    "You can also iterate on the key and the value associated with the key at the same time with the `.items()` function. This function will return the key and the value at the same time in the iteration:"
   ]
  },
  {
   "cell_type": "code",
   "execution_count": null,
   "metadata": {
    "id": "pwUyNuvZ02_W"
   },
   "outputs": [],
   "source": [
    "# iterate on keys and values\n"
   ]
  },
  {
   "cell_type": "code",
   "execution_count": null,
   "metadata": {
    "id": "2V1VHasyXezs"
   },
   "outputs": [],
   "source": []
  },
  {
   "cell_type": "markdown",
   "metadata": {
    "id": "x5LItSNM02_W"
   },
   "source": [
    "## Tuples\n",
    "\n",
    "Tuples are, unlike lists, immutable. It often happens that you come across them when you want to manipulate data that should not be changed during the execution of your code. Here's how it's built:"
   ]
  },
  {
   "cell_type": "code",
   "execution_count": 1,
   "metadata": {
    "colab": {
     "base_uri": "https://localhost:8080/"
    },
    "executionInfo": {
     "elapsed": 8,
     "status": "ok",
     "timestamp": 1659173095078,
     "user": {
      "displayName": "Paulina Durandin",
      "userId": "16306469512586088549"
     },
     "user_tz": -120
    },
    "id": "gVOz0Uf202_W",
    "outputId": "f970efbe-786d-49e1-a803-05e0765d829a"
   },
   "outputs": [
    {
     "name": "stdout",
     "output_type": "stream",
     "text": [
      "(1, 2, 3)\n"
     ]
    }
   ],
   "source": []
  },
  {
   "cell_type": "markdown",
   "metadata": {
    "id": "Gyj5BmOm02_W"
   },
   "source": [
    "The value of an item in a tuple can be accessed in the same way as the value of an item in a list:"
   ]
  },
  {
   "cell_type": "code",
   "execution_count": null,
   "metadata": {
    "id": "gUEzWWZ102_X"
   },
   "outputs": [],
   "source": []
  },
  {
   "cell_type": "markdown",
   "metadata": {
    "id": "iv7eon-d02_X"
   },
   "source": [
    "On the other hand, if you try to change the value for a tuple, you get an error:\n"
   ]
  },
  {
   "cell_type": "code",
   "execution_count": null,
   "metadata": {
    "id": "-Ha2yA9202_X"
   },
   "outputs": [],
   "source": [
    "# A tuple cannot be modified: the code below produces an error\n"
   ]
  },
  {
   "cell_type": "markdown",
   "metadata": {
    "id": "PfVB7ISO02_X"
   },
   "source": [
    "#### Exchanging values with tuples\n",
    "\n",
    "The first interesting thing we can do is exchange values for tuples:"
   ]
  },
  {
   "cell_type": "code",
   "execution_count": null,
   "metadata": {
    "id": "ZE8AjIRm02_X"
   },
   "outputs": [],
   "source": [
    "# Exchanging values using tuples\n"
   ]
  },
  {
   "cell_type": "code",
   "execution_count": null,
   "metadata": {
    "id": "9rbnIFs902_X"
   },
   "outputs": [],
   "source": []
  },
  {
   "cell_type": "code",
   "execution_count": null,
   "metadata": {
    "id": "wISvlPAS02_Y"
   },
   "outputs": [],
   "source": []
  },
  {
   "cell_type": "markdown",
   "metadata": {
    "id": "HRJaJlCR02_Y"
   },
   "source": [
    "#### Iterate over tuples\n",
    "\n",
    "Let's imagine that we have a list in which each element is a tuple, as in the example below:"
   ]
  },
  {
   "cell_type": "code",
   "execution_count": null,
   "metadata": {
    "id": "mpNjzMfO02_Y"
   },
   "outputs": [],
   "source": []
  },
  {
   "cell_type": "markdown",
   "metadata": {
    "id": "fFh2z-Ya02_Y"
   },
   "source": [
    "It is possible to iterate on each tuple and retrieve first names and ages separately in the following way:"
   ]
  },
  {
   "cell_type": "code",
   "execution_count": null,
   "metadata": {
    "id": "S5MsqOsG02_Y"
   },
   "outputs": [],
   "source": []
  },
  {
   "cell_type": "markdown",
   "metadata": {
    "id": "LVsbQNSA02_Z"
   },
   "source": [
    "There is a more practical way of doing this, by giving names to each element of the tuple:"
   ]
  },
  {
   "cell_type": "code",
   "execution_count": null,
   "metadata": {
    "id": "WyvcsoPZ02_Z"
   },
   "outputs": [],
   "source": []
  },
  {
   "cell_type": "markdown",
   "metadata": {
    "id": "FH4niHM402_Z"
   },
   "source": [
    "# Functions\n",
    "---"
   ]
  },
  {
   "cell_type": "markdown",
   "metadata": {
    "id": "Ia5VebKE02_Z"
   },
   "source": [
    "## What you'll learn in this course \n",
    "\n",
    "* What are functions \n",
    "* Create functions \n",
    "* Use Try / Except "
   ]
  },
  {
   "cell_type": "markdown",
   "metadata": {
    "id": "yny_DnBc02_Z"
   },
   "source": [
    "## *Why using them ?*\n",
    "\n",
    "In code, we respect the principle of remaining DRY. This acronym means \"Don't Repeat Yourself\". In general, think that if you have two lines of code that repeat exactly, there must surely be another way to write your program more elegantly.\n",
    "\n",
    "Don't forget that you will be reading code more often than you will be writing it. So it is good to follow standards and write elegantly. Just as you wouldn't like to read a novel that has been badly written, no one likes to read badly structured code.\n",
    "\n",
    "That's why functions are very useful. You will be able to write once and for all a sequence of instructions that you \"store\" in a function. Then you can call that function whenever you need to execute that sequence of instructions.\n",
    "\n",
    "\n",
    "## How to write a function ?\n",
    "\n",
    "This is how they are structured :"
   ]
  },
  {
   "cell_type": "code",
   "execution_count": null,
   "metadata": {
    "id": "Awu9LwEk02_Z"
   },
   "outputs": [],
   "source": [
    "def name_of_the_function(arguments):\n",
    "    instructions \n",
    "    return result # optional: allows to reuse the result of a calculation outside the function"
   ]
  },
  {
   "cell_type": "markdown",
   "metadata": {
    "id": "JPCFH_qs02_a"
   },
   "source": [
    "A function always starts with a `def` followed by the `name of the function`, and ends with the `arguments` of the function, which represent the variables that will be passed to the function for execution. Then, in the same way as a loop or a condition, you will have to make an indentation and add your code containing the different instructions to be executed when the function is called.\n",
    "\n",
    "Once the function is implemented, you can use it as many times as you want. In the example below, we declare a `square_number()` function that calculates the square of a number and then displays the result on the screen. This function is then called three times, allowing you to re-execute the same instruction sequence without having to rewrite the same code three times. This is usually more readable:"
   ]
  },
  {
   "cell_type": "code",
   "execution_count": null,
   "metadata": {
    "id": "OXKfW3SS02_a"
   },
   "outputs": [],
   "source": [
    "# Declaration of the function\n"
   ]
  },
  {
   "cell_type": "markdown",
   "metadata": {
    "id": "-e1HqHQy02_a"
   },
   "source": [
    "Optionally, the declaration of the function can end with a `return` instruction, which allows the result of the calculation to be retrieved from the function and reused later in the code. \n",
    "\n",
    "If your function declaration ends with a `return`, then you can retrieve the returned variable by writing, when calling the :\n",
    "\n",
    "```\n",
    "res = function_name(argument)\n",
    "```"
   ]
  },
  {
   "cell_type": "code",
   "execution_count": null,
   "metadata": {
    "id": "m2I_2MDi02_a"
   },
   "outputs": [],
   "source": [
    "# If you want to retrieve the result of the calculation to reuse it later, you have to add a \"return\".\n"
   ]
  },
  {
   "cell_type": "markdown",
   "metadata": {
    "id": "xGyfWzhT02_a"
   },
   "source": [
    "## Multi-argument function\n",
    "\n",
    "A function can take several arguments. We will then write :\n"
   ]
  },
  {
   "cell_type": "code",
   "execution_count": null,
   "metadata": {
    "id": "hGL7_6FG02_b"
   },
   "outputs": [],
   "source": [
    "def name_of_the_function(x, y, z):\n",
    "    ### CODE\n",
    "    return x, y, z"
   ]
  },
  {
   "cell_type": "code",
   "execution_count": null,
   "metadata": {
    "id": "duYpGbJO02_b"
   },
   "outputs": [],
   "source": [
    "# A function taking two arguments \"number\" and \"power\"\n"
   ]
  },
  {
   "cell_type": "markdown",
   "metadata": {
    "id": "SR6tf27902_b"
   },
   "source": [
    "## Add a default argument\n",
    "\n",
    "Sometimes it is useful to have a default argument in your function. That is, if the user has not specified a value for the argument, the function will still take into account a value that you specified before when you built your function."
   ]
  },
  {
   "cell_type": "code",
   "execution_count": null,
   "metadata": {
    "id": "R2bIREk-02_b"
   },
   "outputs": [],
   "source": [
    "# The argument \"power\" will be worth 2 by default if the user does not specify a value :\n"
   ]
  },
  {
   "cell_type": "code",
   "execution_count": null,
   "metadata": {
    "id": "KqF9P2eq02_b"
   },
   "outputs": [],
   "source": [
    "# Different calls to the function\n",
    "\n",
    "# Call using the default argument power = 2\n",
    "\n",
    "# If you wish to change the value of power :\n",
    "# more explicit"
   ]
  },
  {
   "cell_type": "markdown",
   "metadata": {
    "id": "9poe9zAR02_c"
   },
   "source": [
    "## Manage exceptions\n",
    "\n",
    "The last thing you need to know about functions are exceptions. In other words: _what do I do when my user does something they're not supposed to do?_\n",
    "\n",
    "Let's take an example of an exception to our square_number() function.  If the user passes a string instead of a number as an argument, python will obviously not be able to calculate the square of a string and this will produce an error :"
   ]
  },
  {
   "cell_type": "code",
   "execution_count": null,
   "metadata": {
    "id": "F1g_LUvh02_c"
   },
   "outputs": [],
   "source": []
  },
  {
   "cell_type": "markdown",
   "metadata": {
    "id": "o9BLR6C602_c"
   },
   "source": [
    "You may want to \"handle\" this error (or exception) to prevent it from creating a bug in your code. This is possible in python with the try/except clause:\n",
    "\n",
    "```python\n",
    "try:\n",
    "    error-prone instructions\n",
    "except:\n",
    "    instructions to execute if error (instead of bugging)\n",
    "else:\n",
    "    instructions to be executed if no error\n",
    "```\n",
    "\n",
    "In our example with `square_number()`, this translates as follows:"
   ]
  },
  {
   "cell_type": "code",
   "execution_count": null,
   "metadata": {
    "id": "6o0JUJR002_c"
   },
   "outputs": [],
   "source": []
  },
  {
   "cell_type": "markdown",
   "metadata": {
    "id": "Wm6ql1Y_02_c"
   },
   "source": [
    "### Manage multiple exceptions\n",
    "\n",
    "It is quite possible that there are several types of errors in your code. All you need to know is the type of errors that can occur and the different blocks of code that need to be executed depending on the error in question.\n",
    "\n",
    "Let's look at an example with a program that will be used to share an addition in equal parts according to the number of people. Take a few minutes to look at the code below the _try_ block:"
   ]
  },
  {
   "cell_type": "code",
   "execution_count": null,
   "metadata": {
    "id": "m6hUDG2t02_d"
   },
   "outputs": [],
   "source": []
  },
  {
   "cell_type": "markdown",
   "metadata": {
    "id": "7tMD-MCB02_d"
   },
   "source": [
    "Here you see that the user is asked to give the total amount of the bill and the total number of people. If the user has to enter values, there are bound to be errors. For example, he can put something other than a number in the bill or in the total number of people or he can put 0 guests in the total number of people.\n",
    "\n",
    "So here are two possible errors called `ValueError` and `ZeroDivisionError.` Hence the code you see. There are, of course, many other types of possible errors in addition to these two. We refer you to the book _Practical Introduction to Python_ to see them all."
   ]
  },
  {
   "cell_type": "code",
   "execution_count": null,
   "metadata": {
    "id": "FpTJwvn302_d"
   },
   "outputs": [],
   "source": []
  },
  {
   "cell_type": "code",
   "execution_count": null,
   "metadata": {
    "id": "FBzyO4jO02_d"
   },
   "outputs": [],
   "source": []
  },
  {
   "cell_type": "code",
   "execution_count": null,
   "metadata": {
    "id": "ob_FBtVo02_d"
   },
   "outputs": [],
   "source": []
  },
  {
   "cell_type": "markdown",
   "metadata": {
    "id": "fC5E6rIu02_e"
   },
   "source": [
    "### Giving an alias to exceptions\n",
    "You can give an alias to your exceptions so that you can get the standard console message in addition to a custom code for your function. Here is an example:"
   ]
  },
  {
   "cell_type": "code",
   "execution_count": null,
   "metadata": {
    "id": "owWSLYAK02_e"
   },
   "outputs": [],
   "source": []
  },
  {
   "cell_type": "code",
   "execution_count": null,
   "metadata": {
    "id": "9j50gu0F02_e"
   },
   "outputs": [],
   "source": []
  },
  {
   "cell_type": "markdown",
   "metadata": {
    "id": "ClslO25c02_e"
   },
   "source": [
    "### Create your own exceptions\n",
    "\n",
    "Finally, you can create your own exception when a user can enter values that are not technically wrong in the program but do not make sense for your application. For example, with the addition share function, it should not be possible to enter negative values, even if the program as built above would accept them. In this case, you can use the `raise` statement:\n",
    "\n",
    "```python\n",
    "if (condition_which_must_create_the_mistake):\n",
    "    raise Exception(\"message\")\n",
    "```"
   ]
  },
  {
   "cell_type": "code",
   "execution_count": null,
   "metadata": {
    "id": "6oYDAaw402_e"
   },
   "outputs": [],
   "source": []
  },
  {
   "cell_type": "code",
   "execution_count": null,
   "metadata": {
    "id": "petQ_ovZ02_f"
   },
   "outputs": [],
   "source": []
  },
  {
   "cell_type": "code",
   "execution_count": null,
   "metadata": {
    "id": "gK0byatK02_f"
   },
   "outputs": [],
   "source": [
    "# Now, we can no longer enter negative values\n"
   ]
  },
  {
   "cell_type": "markdown",
   "metadata": {
    "id": "FgyzuUET02_f"
   },
   "source": [
    "# Understanding Object Oriented Programming"
   ]
  },
  {
   "cell_type": "markdown",
   "metadata": {
    "id": "qLiHMQAA02_f"
   },
   "source": [
    "## Object-oriented programming\n",
    "\n",
    "### The OOP structure\n",
    "\n",
    "Let's start by talking about the structure and vocabulary related to OOP, as this will make it easier for you to understand why we do it and the fundamental principles on which OOP is based. Here's the general structure:\n",
    "\n",
    "\n",
    "\n",
    "1. **An object**: Anything can designate an object: a class is an object, a function is an object etc. When we don't know the type of data we are dealing with, we will talk about an object.\n",
    "\n",
    "2. **A class**: A class is a collection of methods, variables... that will allow to execute a certain number of actions.\n",
    "\n",
    "3. **An attribute**: These are the variables contained in a class. \n",
    "\n",
    "4. **A method** : When we build functions, in a class, we are actually talking about methods. These functions have been used before, and are those that start with a dot (ex: _.pop()_)\n",
    "\n",
    "5. **An instance**: An instance is an example of a class, that is, each time you are going to use a class, you are going to create an instance of that class.\n",
    "\n",
    "These five vocabulary words are the ones you need to keep in mind. You're not going to understand them all right away, that's perfectly normal. We'll build classes and it'll all come together quickly.\n",
    "\n",
    "\n",
    "### Why do OOP?\n",
    "\n",
    "The whole purpose of OOP is to create code that is more robust, flexible and more easily reusable. It is based on 4 principles:\n",
    "\n",
    "1. Encapsulation\n",
    "2. Abstract\n",
    "3. Heritage\n",
    "4. Polymorphism\n",
    "\n",
    "Let's quickly explain each of these principles:\n",
    "\n",
    "**Encapsulation**: In OOP, we have attributes nested in classes. This allows us to \"arrange\" the variables relative to the same object (for example, we will arrange in the same object the real and imaginary parts of a complex number). It is also very useful for hiding from the user variables that are useful for the operation of the code but whose values the user does not necessarily need to know or manipulate directly. This principle of having attributes nested in classes respects what is called encapsulation.\n",
    "\n",
    "**Abstraction** : Abstraction tells us that: \"If there is complex code that the user doesn't need, we might as well hide it\". The idea behind this is to prevent the user from bringing bugs into the programs.\n",
    "\n",
    "**Heritage**: There can be a hierarchy in classes and methods. You can have parent classes and child classes that inherit the attributes of the parent class. \n",
    "\n",
    "**Polymorphism** : Polymorphism is very much related to inheritance. It means that in addition to inheriting the attributes of the parent classes, each of the methods of the parent class can adapt to different possible situations.\n",
    "\n",
    "This will help you understand how classes are built, but you don't have to rack your brains about it right now. You'll understand as we create classes."
   ]
  },
  {
   "cell_type": "markdown",
   "metadata": {
    "id": "LrNO5AxP02_g"
   },
   "source": [
    "### Create a class with its attributes and methods\n",
    "\n",
    "The syntax for creating a class will always be as follows:\n",
    "\n",
    "```python\n",
    "class Name_of_the_class():\n",
    "    def __init__(self, arguments_init): # special method for initializing internal attributes (optional if no internal attributes)\n",
    "        self.name_attribute1 = ...\n",
    "        self.name_attribute2 = ...\n",
    "        \n",
    "    def method1(self, arguments_methode1):\n",
    "        instructions\n",
    "        return ... # optional\n",
    "    \n",
    "    def method2(self, arguments_methode2):\n",
    "        instructions\n",
    "        return ... # optional\n",
    "        \n",
    "```\n",
    "\n",
    "The __init__() method is a special method: it is the one that will be called each time a class instance is created. It determines how the attributes will be initialized. As soon as your class contains internal attributes, you should think about defining the __init()__. Sometimes you may create a class that has no internal attributes. In this case, you don't need the __init()__.\n",
    "\n",
    "Once the class has been declared, we will be able to create as many instances of the class as we want, in the following way:\n",
    "\n",
    "```python\n",
    "name_instance1 = Name_of_the_class(arguments_init)\n",
    "name_instance2 = Name_of_the_class(arguments_init)\n",
    "```\n",
    "\n",
    "Once the class instance has been created, its internal attributes can then be accessed in this way :\n",
    "```python\n",
    "name_instance1.name_attribute1\n",
    "```\n",
    "\n",
    "Finally, for each instance, it will be possible to call the methods declared within the class, in this way :\n",
    "\n",
    "```python\n",
    "name_instance1.methode1(arguments_methode1)\n",
    "```\n",
    "\n",
    "**Note**: each method defined in the class has a list of arguments that starts with a particular keyword, denoted `self`. In python, `self` represents the instance of the class and is always the first argument to a method. It is because we write `methode1(self,...)` that we can then call the method with a dot: `instance_name1.method1(...)`. If you forget the `self' argument when defining the method, you will get an error when trying to call the method."
   ]
  },
  {
   "cell_type": "markdown",
   "metadata": {
    "id": "z6cybG1002_g"
   },
   "source": [
    "### Create a class: example\n",
    "Let's say we're a dealership that runs garages. We want to create a `Garage()` class that will allow us to track the status of our garages at any time. \n",
    "\n",
    "#### A simple first class\n",
    "\n",
    "Let's start with a simple class, which will allow us to track the number of employees in each garage:"
   ]
  },
  {
   "cell_type": "code",
   "execution_count": null,
   "metadata": {
    "id": "yfdeyK4U02_g"
   },
   "outputs": [],
   "source": [
    "# Definition of a Garage class with its attributes and methods\n",
    "\n"
   ]
  },
  {
   "cell_type": "markdown",
   "metadata": {
    "id": "pl-kJMEp02_g"
   },
   "source": [
    "The `Garage()` class contains an internal attribute, `self.employes`. The `__init__()` method thus written specifies that this attribute will always be initialized to 0 for created instances.\n",
    "\n",
    "We have defined three class methods:\n",
    "* `recruit_employees(self, number_employees)` allows to add a certain number of `number_employees` to the attribute `self.employes`.\n",
    "* `employee_licensee(self, number_employees)` allows you to remove a certain `number_of_employees` from the `self.employes` attribute.\n",
    "* `display_information(self)` is used to display the value of the internal attribute `self.employes` on the screen.\n",
    "\n",
    "Now that the `Garage()` class is declared, we can create instances of the class (here, two instances named `garage1` and `garage2`), and then call class methods on those instances:"
   ]
  },
  {
   "cell_type": "code",
   "execution_count": null,
   "metadata": {
    "id": "sEMn-52v02_h"
   },
   "outputs": [],
   "source": [
    "# Declaration of two instances of class Garage\n",
    "\n",
    "# At any time, the method affiche_informations() can be used to check the status of internal attributes :\n"
   ]
  },
  {
   "cell_type": "markdown",
   "metadata": {
    "id": "NYuJgTIx02_h"
   },
   "source": [
    "We can notice that for each instance, the internal attribute `self.number_employees` has been initialized with the value 0. The methods `recruit_employees(self, number_employees)` and `license_employees(self, number_employees)` will allow to modify the value of this internal attribute:"
   ]
  },
  {
   "cell_type": "code",
   "execution_count": null,
   "metadata": {
    "id": "UIFNVwQb02_h"
   },
   "outputs": [],
   "source": [
    "# We're recruiting 3 employees in Garage 1 \n",
    "# We're recruiting 2 employees in Garage 2\n",
    "\n"
   ]
  },
  {
   "cell_type": "code",
   "execution_count": null,
   "metadata": {
    "id": "Li3n3rHN02_h"
   },
   "outputs": [],
   "source": [
    "# We're laying off 2 employees in garage 1\n",
    "\n"
   ]
  },
  {
   "cell_type": "markdown",
   "metadata": {
    "id": "gt57mck302_h"
   },
   "source": [
    "#### Let's handle exceptions\n",
    "As it stands, it is possible to pass any argument to our methods, which can give rise to inconsistencies: "
   ]
  },
  {
   "cell_type": "code",
   "execution_count": null,
   "metadata": {
    "id": "-0aGVW7w02_i"
   },
   "outputs": [],
   "source": []
  },
  {
   "cell_type": "markdown",
   "metadata": {
    "id": "wiTIWVMB02_i"
   },
   "source": [
    "In fact, we know that we cannot lay off more employees than the total number of employees in the garage. We're going to change the method ```dismissed_employees()``` and use the instruction ```raise``` to prevent this :"
   ]
  },
  {
   "cell_type": "code",
   "execution_count": null,
   "metadata": {
    "id": "StaRd3Qk02_i"
   },
   "outputs": [],
   "source": [
    "# We re-declare the Garage class by changing the redundant_employees method\n",
    "\n"
   ]
  },
  {
   "cell_type": "code",
   "execution_count": null,
   "metadata": {
    "id": "bvs_Dbwq02_i"
   },
   "outputs": [],
   "source": [
    "# Let's declare instances of this new class :\n"
   ]
  },
  {
   "cell_type": "markdown",
   "metadata": {
    "id": "3H3c6Nn402_j"
   },
   "source": [
    "Now, if we call licencie_employes() with an inconsistent value, the code will bug:"
   ]
  },
  {
   "cell_type": "code",
   "execution_count": null,
   "metadata": {
    "id": "jMiPpzKF02_j"
   },
   "outputs": [],
   "source": [
    "# The code above produces an error\n"
   ]
  },
  {
   "cell_type": "markdown",
   "metadata": {
    "id": "PKz6vF2n02_j"
   },
   "source": [
    "As seen in the previous lesson, we can use the try/except clauses to avoid bugging the cell :"
   ]
  },
  {
   "cell_type": "code",
   "execution_count": null,
   "metadata": {
    "id": "IJASequ-02_j"
   },
   "outputs": [],
   "source": []
  },
  {
   "cell_type": "markdown",
   "metadata": {
    "id": "D8zRQ1pK02_j"
   },
   "source": [
    "#### Let's add more attributes and methods to enrich our Garage class\n",
    "We will now add more internal attributes:\n",
    "* `self.clients` : the number of clients in the garage\n",
    "* `self.cars_to_repair`: the number of cars waiting to be repaired.\n",
    "* `self.cars_repaired`: the number of cars repaired since the garage opened.\n",
    "\n",
    "As well as the methods to update these attributes:\n",
    "* `client_bring_cars(self, car_number, new_client)`\n",
    "* `repare_cars(self, nb_cars)`"
   ]
  },
  {
   "cell_type": "code",
   "execution_count": null,
   "metadata": {
    "id": "SSuoMWK402_k"
   },
   "outputs": [],
   "source": [
    "# Definition of the class with its attributes and methods\n",
    "\n"
   ]
  },
  {
   "cell_type": "code",
   "execution_count": null,
   "metadata": {
    "id": "PPo0YktX02_k"
   },
   "outputs": [],
   "source": [
    "# Let's declare an instance of this new class :\n"
   ]
  },
  {
   "cell_type": "code",
   "execution_count": null,
   "metadata": {
    "id": "ocge-hlG02_k"
   },
   "outputs": [],
   "source": [
    "# The employees are repairing 3 cars :\n"
   ]
  },
  {
   "cell_type": "markdown",
   "metadata": {
    "id": "Wyt7uABo02_k"
   },
   "source": [
    "#### Let's change the initial values of the attributes by adding arguments to `__init()__`.\n",
    "Now imagine that we buy a garage that already has employees and customers. In this case, we no longer want to initialize the attributes to 0 but with the information corresponding to the day of acquisition. We can do this by passing arguments to the method ```__init()__`````."
   ]
  },
  {
   "cell_type": "code",
   "execution_count": null,
   "metadata": {
    "id": "xM8J0jKs02_l"
   },
   "outputs": [],
   "source": [
    "# Definition of the class with its attributes and methods\n",
    "\n",
    "\n",
    "        "
   ]
  },
  {
   "cell_type": "code",
   "execution_count": null,
   "metadata": {
    "id": "qmuLRjyo02_l"
   },
   "outputs": [],
   "source": [
    "# We can now create an instance of the Garage class like this :\n"
   ]
  },
  {
   "cell_type": "markdown",
   "metadata": {
    "id": "1G5oN1cx02_l"
   },
   "source": [
    "## Use default arguments so that you don't have to specify certain values\n",
    "However, the purchase of an existing garage is rare. Most of the time, the attributes will have to be initialized to 0 and we would like to avoid having to call the Garage class all the time by writing: ```garage2 = Garage(0, 0, 0)``\n",
    "To do this, we will define default arguments in the  ```__init__()``:"
   ]
  },
  {
   "cell_type": "code",
   "execution_count": null,
   "metadata": {
    "id": "RzwqlRyB02_l"
   },
   "outputs": [],
   "source": [
    "# Definition of the class with its attributes and methods\n",
    "\n"
   ]
  },
  {
   "cell_type": "code",
   "execution_count": null,
   "metadata": {
    "id": "C_ks4f4902_m"
   },
   "outputs": [],
   "source": [
    "# We can now create an instance of the Garage class like this :\n"
   ]
  },
  {
   "cell_type": "code",
   "execution_count": null,
   "metadata": {
    "id": "oI4OTjI402_m"
   },
   "outputs": [],
   "source": []
  },
  {
   "cell_type": "code",
   "execution_count": null,
   "metadata": {
    "id": "wjyZwczK02_m"
   },
   "outputs": [],
   "source": []
  },
  {
   "cell_type": "code",
   "execution_count": null,
   "metadata": {
    "id": "ktBsSkdt02_m"
   },
   "outputs": [],
   "source": []
  },
  {
   "cell_type": "code",
   "execution_count": null,
   "metadata": {
    "id": "QTaxYLFq02_m"
   },
   "outputs": [],
   "source": []
  },
  {
   "cell_type": "code",
   "execution_count": null,
   "metadata": {
    "id": "lMtxMQAc02_n"
   },
   "outputs": [],
   "source": []
  },
  {
   "cell_type": "code",
   "execution_count": null,
   "metadata": {
    "id": "RbE-Q2jF02_n"
   },
   "outputs": [],
   "source": []
  },
  {
   "cell_type": "code",
   "execution_count": null,
   "metadata": {
    "id": "s1iFktPx02_n"
   },
   "outputs": [],
   "source": []
  }
 ],
 "metadata": {
  "colab": {
   "collapsed_sections": [
    "o235-DJ302_J",
    "jpgtkpnW02_K",
    "xCwiaXpF02_K",
    "F0G92RCV02_L",
    "HYLfiih-02_L",
    "iZ91yvqY02_M",
    "Tj6CwVLW02_N",
    "igXkYjI002_P",
    "6M4owFWs02_Q",
    "o88Oz85s02_Q",
    "Ev2C03ye02_R",
    "OWiYE4wQ02_S",
    "I43BIVwY02_T",
    "ZMtMBml302_U",
    "AlI0o3Ke02_U",
    "x5LItSNM02_W",
    "PfVB7ISO02_X",
    "HRJaJlCR02_Y",
    "Ia5VebKE02_Z",
    "yny_DnBc02_Z",
    "xGyfWzhT02_a",
    "SR6tf27902_b",
    "9poe9zAR02_c",
    "Wm6ql1Y_02_c",
    "fC5E6rIu02_e",
    "ClslO25c02_e",
    "qLiHMQAA02_f",
    "LrNO5AxP02_g",
    "z6cybG1002_g",
    "gt57mck302_h",
    "D8zRQ1pK02_j",
    "Wyt7uABo02_k",
    "1G5oN1cx02_l"
   ],
   "name": "Python_revision.ipynb",
   "provenance": []
  },
  "kernelspec": {
   "display_name": "Python 3 (ipykernel)",
   "language": "python",
   "name": "python3"
  },
  "language_info": {
   "codemirror_mode": {
    "name": "ipython",
    "version": 3
   },
   "file_extension": ".py",
   "mimetype": "text/x-python",
   "name": "python",
   "nbconvert_exporter": "python",
   "pygments_lexer": "ipython3",
   "version": "3.11.5"
  }
 },
 "nbformat": 4,
 "nbformat_minor": 1
}
