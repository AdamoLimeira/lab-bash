{
 "cells": [
  {
   "cell_type": "markdown",
   "metadata": {
    "id": "czy1VhSxUpH-"
   },
   "source": [
    "# Exercises Python"
   ]
  },
  {
   "cell_type": "markdown",
   "metadata": {
    "id": "-YWBcLbRUpIE"
   },
   "source": [
    "# 1. Lists"
   ]
  },
  {
   "cell_type": "markdown",
   "metadata": {
    "id": "7CXBU4ZqUpIF"
   },
   "source": [
    "## Exercise 1.1"
   ]
  },
  {
   "cell_type": "markdown",
   "metadata": {
    "id": "fVWnzH6rUpIF"
   },
   "source": [
    "*Here* is a list [\"Hello\", \"I\", “Michael”, “am”]\n",
    "\n",
    "    1. Store this list in a variable we'll call michael.\n",
    "    2. Make a loop so that the console returns each of the items in the list.\n",
    "    3. We have a problem with this sentence, two words are reversed. Find a way to invert the last item with the next-to-last item...\n"
   ]
  },
  {
   "cell_type": "markdown",
   "metadata": {
    "id": "Q_VJoQKCUpIG"
   },
   "source": [
    "## Exercise 1.2"
   ]
  },
  {
   "cell_type": "markdown",
   "metadata": {
    "id": "fXzXGlPNUpIG"
   },
   "source": [
    "  "
   ]
  },
  {
   "cell_type": "markdown",
   "metadata": {
    "id": "sgV_udonUpIH"
   },
   "source": [
    "Here's a list of ages: [12, 16, 34, 58, 9].\n",
    "\n",
    "    1. Store this age list in a variable that we'll call: \n",
    "\n",
    "\n",
    "\n",
    "```\n",
    "age\n",
    "```\n",
    "\n",
    "\n",
    "\n",
    "    2. We would like this list to be arranged in ascending order, how do we do that?\n",
    "    3. And in descending order?"
   ]
  },
  {
   "cell_type": "code",
   "execution_count": null,
   "metadata": {
    "id": "otZYGmhXYs6O"
   },
   "outputs": [],
   "source": []
  },
  {
   "cell_type": "markdown",
   "metadata": {
    "id": "g2oZYVTBJ4zL"
   },
   "source": []
  },
  {
   "cell_type": "markdown",
   "metadata": {
    "id": "ER3SB1MeUpII"
   },
   "source": [
    "# 2. Dictionaries"
   ]
  },
  {
   "cell_type": "markdown",
   "metadata": {
    "id": "VXb0aphcUpIJ"
   },
   "source": [
    "## Exercise 2.1"
   ]
  },
  {
   "cell_type": "markdown",
   "metadata": {
    "id": "1EaCd-mXUpIJ"
   },
   "source": [
    "We told you that dictionaries are very useful with APIs, so let's try to use the Star Wars API.\n",
    "\n",
    "    1. In your text editor, write:\n",
    "    \n",
    "\n",
    "\n",
    "```\n",
    "import requests\n",
    "request = requests.get(\"https://swapi.dev/api/people/1/\")\n",
    "dic = request.json()\n",
    "```\n",
    "\n",
    "    2. This will make it possible to call the Star Wars API to store it on a dictionary format in a variable called _dic_.\n",
    "    \n",
    "    3. See what's in the dictionary via a loop\n",
    "    \n",
    "    4. We'd like to make a nice phrase to describe the character like this: \n",
    "    \n",
    "    “{{name}} is {{height}} cm tall and weighs {{mass}} kg. He was born in {{birth_year}}”"
   ]
  },
  {
   "cell_type": "markdown",
   "metadata": {
    "id": "drVLKgYiUpIK"
   },
   "source": [
    "## Exercise 2.2"
   ]
  },
  {
   "cell_type": "markdown",
   "metadata": {
    "id": "ZVIpSc0-UpIL"
   },
   "source": [
    " 1. Import a new character by changing :\n",
    "    \n",
    "    \n",
    "```\n",
    "request = requests.get(\"https://swapi.dev/api/people/1/\")\n",
    "```\n",
    "\n",
    "by\n",
    "\n",
    "\n",
    " ```\n",
    "request = requests.get(\"https://swapi.dev/api/people/5/\")\n",
    "```\n",
    "\n",
    "2. Re-run your code, do you see a problem? Try to fix it.\n"
   ]
  },
  {
   "cell_type": "markdown",
   "metadata": {
    "id": "ODCADzNeUpIL"
   },
   "source": [
    "# 3. Slices"
   ]
  },
  {
   "cell_type": "markdown",
   "metadata": {
    "id": "C9I6Uc8eUpIL"
   },
   "source": [
    "## Exercise 3.1"
   ]
  },
  {
   "cell_type": "markdown",
   "metadata": {
    "id": "xPkryvHjUpIM"
   },
   "source": [
    "We have the following dataset: ` kilometres_travelled = [50, 10, 100, 25, 1000, 21, 12,30]`\n",
    " \n",
    "    1. This variable represents a list of kilometres travelled every morning by 8 users to work.\n",
    "    2. Using a loop, calculate the total average of all the users' trips.\n",
    "    3. Is this average representative of what all individuals really go through? Why do you think so?\n",
    "    4. Change the variable kilometers_travelled to have a more representative average in case you think it is \n",
    "    better."
   ]
  },
  {
   "cell_type": "markdown",
   "metadata": {
    "id": "PMaL9DKCUpIM"
   },
   "source": [
    "## 4. Functions"
   ]
  },
  {
   "cell_type": "markdown",
   "metadata": {
    "id": "Vafx-66YUpIM"
   },
   "source": [
    "**Text fett markieren**## Exercise 4.1"
   ]
  },
  {
   "cell_type": "markdown",
   "metadata": {
    "id": "BOlI_HcNUpIN"
   },
   "source": [
    "Let's start with a simple function:\n",
    "\n",
    "* Declare a function that returns the square root of a number. We'll call it `sqrt()`.\n",
    "* Execute the function to compute the square root of 25 and print the resultLet's start with a simple function:"
   ]
  },
  {
   "cell_type": "markdown",
   "metadata": {
    "id": "f7kbU6wxUpIN"
   },
   "source": [
    "*kursiver Text*## Exercise 4.2"
   ]
  },
  {
   "cell_type": "markdown",
   "metadata": {
    "id": "dXlQnrnUUpIO"
   },
   "source": [
    "It is said that if Christopher Columbus had set aside €1 that he had left at 2% interest per year, today his heirs would no longer need to work to live their lives. Let's try to calculate the same thing for our savings. \n"
   ]
  },
  {
   "cell_type": "markdown",
   "metadata": {
    "id": "DQTayghWUpIO"
   },
   "source": [
    "1. So let's create a function that will allow us to know how much money a user will have in total after a certain number of years.\n",
    "\n",
    "> Eingerückter Textblock\n",
    "\n",
    "\n",
    "\n",
    "2. The user should be able to call the function which will then ask for :\n",
    "\n",
    "    1. The total amount he wishes to place\n",
    "    2. The number of years he wants to invest his money for\n",
    "    3. The rate of interest to which he is entitled\n",
    "    \n",
    "3. Pay attention to the errors that the user may enter.\n",
    "\n",
    "    4. If he enters a string of characters rather than a number, an error should be displayed.\n",
    "    5. If the user enters negative numbers, an error should also be output.\n",
    "    6. Finally, it is very likely that the user will write the interest rate as a percentage (e.g. 10%). Raise an error if this is the case, to prevent him from inputting a percentage.\n",
    "    \n",
    "4. Finally, the program should only show one number with a maximum of two digits after the decimal point.\n"
   ]
  },
  {
   "cell_type": "markdown",
   "metadata": {
    "id": "xAf8xiI2UpIO"
   },
   "source": [
    "# 5. OOP"
   ]
  },
  {
   "cell_type": "markdown",
   "metadata": {
    "id": "3nPdmvZCUpIP"
   },
   "source": [
    "## Exercise 5.1 (a bit of a mathematical programming oriented approach)*"
   ]
  },
  {
   "cell_type": "markdown",
   "metadata": {
    "id": "6prF2H_BUpIP"
   },
   "source": [
    "_Mathematics, in general, we don't like to do it. Especially when it involves repeating operations, over and over again. Let's be real lazy and create a class that will do the operations we want for us._"
   ]
  },
  {
   "cell_type": "markdown",
   "metadata": {
    "id": "Y79wo2aWUpIP"
   },
   "source": [
    "1. _Create a class to be called \"math.\"_\n",
    "2. _This class will have no internal attributes, so you don't need to define an init() _\n",
    "3. _Create a method that will compute the square root of any number._\n",
    "4. _Create a method that will calculate the average of any list of numbers._\n",
    "5. _Create a method to find out if a number is even or odd_.\n",
    "6. _Finally, create a method that will give the total sum of a list of numbers._"
   ]
  },
  {
   "cell_type": "markdown",
   "metadata": {
    "id": "fruKbfA2UpIQ"
   },
   "source": [
    "# Challenge**"
   ]
  },
  {
   "cell_type": "markdown",
   "metadata": {
    "id": "4TFYbjLQUpIQ"
   },
   "source": [
    "Let us think in a smart way of estimating $\\pi$. We know that the area of a circle is given by $A = \\pi r^2$ where $r$ is its radius. Let us assume that the radius is 1. Let us also assume that we generate a huge collection of random pairs where each coordinates are between 0 and 1. If you count the number of these points in the plane that fall inside the corresponding part of the circle which portion of the circle are we actually thinking of? Make a drawing. Afterwards the proportion between the number of these points and the total number of points that were drawn give you surely an approximation of a certain part of the circle. How do you use that in order to estimate $\\pi$?\n",
    "\n"
   ]
  },
  {
   "cell_type": "markdown",
   "metadata": {
    "id": "hoxvgJC0UpIQ"
   },
   "source": [
    "   1. Draw and sketch a solution.\n",
    "   2. Formulate the problem using a loop. Think of the geometry of the circle and import the random library in order to draw random numbers as asked above.\n",
    "   3. Design a function that takes $n$ total number of elements of the random collection that it is used to estimate $\\pi$."
   ]
  },
  {
   "cell_type": "code",
   "execution_count": null,
   "metadata": {
    "id": "OXftkw1PUpIQ"
   },
   "outputs": [],
   "source": []
  }
 ],
 "metadata": {
  "colab": {
   "name": "exercises_python.ipynb",
   "provenance": []
  },
  "kernelspec": {
   "display_name": "Python 3 (ipykernel)",
   "language": "python",
   "name": "python3"
  },
  "language_info": {
   "codemirror_mode": {
    "name": "ipython",
    "version": 3
   },
   "file_extension": ".py",
   "mimetype": "text/x-python",
   "name": "python",
   "nbconvert_exporter": "python",
   "pygments_lexer": "ipython3",
   "version": "3.11.5"
  }
 },
 "nbformat": 4,
 "nbformat_minor": 1
}
